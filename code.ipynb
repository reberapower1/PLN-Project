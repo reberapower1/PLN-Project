{
 "cells": [
  {
   "cell_type": "markdown",
   "id": "50160a39",
   "metadata": {},
   "source": [
    "## Pré-processamento"
   ]
  },
  {
   "cell_type": "code",
   "execution_count": 1,
   "id": "4d684682",
   "metadata": {},
   "outputs": [],
   "source": [
    "import pandas as pd\n",
    "from collections import Counter\n",
    "import re\n",
    "import nltk\n",
    "from nltk.corpus import stopwords\n",
    "import pandas as pd\n",
    "import string\n",
    "from sklearn.model_selection import train_test_split\n",
    "#import spacy\n",
    "\n",
    "df = pd.read_csv('factnews_dataset.csv')\n",
    "\n",
    "#criar grupo treino e teste\n",
    "train_df, test_df = train_test_split(df, test_size=0.2, random_state=42)\n",
    "\n",
    "stop_words = set(stopwords.words('portuguese'))\n",
    "\n",
    "#criar coluna tokens\n",
    "train_df['tokens'] = train_df['sentences'].apply(lambda x: nltk.word_tokenize(str(x).lower()))\n",
    "\n",
    "# Tokenizar sem stopwords\n",
    "train_df['tokens_no_stopwords'] = train_df['tokens'].apply(lambda toks: [t for t in toks if t not in stop_words])"
   ]
  },
  {
   "cell_type": "markdown",
   "id": "7f7252cc",
   "metadata": {},
   "source": [
    "## Análise exploratória"
   ]
  },
  {
   "cell_type": "code",
   "execution_count": 2,
   "id": "943b7e2f",
   "metadata": {},
   "outputs": [
    {
     "name": "stdout",
     "output_type": "stream",
     "text": [
      "classe\n",
      " 0    3394\n",
      "-1    1115\n",
      " 1     443\n",
      "Name: count, dtype: int64\n"
     ]
    }
   ],
   "source": [
    "# Contar número de linhas por classe\n",
    "contagem_classes = train_df['classe'].value_counts()\n",
    "print(contagem_classes)\n"
   ]
  },
  {
   "cell_type": "markdown",
   "id": "5497f943",
   "metadata": {},
   "source": [
    "Detetar palavras únicas entre as classes"
   ]
  },
  {
   "cell_type": "code",
   "execution_count": 3,
   "id": "c04b8b3e",
   "metadata": {},
   "outputs": [],
   "source": [
    "classes = df['classe'].unique()\n",
    "\n",
    "def palavras_unicas_por_classe(df, token_col):\n",
    "    \n",
    "    # contar tokens por classe\n",
    "    tokens_por_classe = {}\n",
    "    for classe in classes:\n",
    "        linhas_classe = df[df['classe'] == classe][token_col].dropna()\n",
    "        contagem = {}\n",
    "        for lista in linhas_classe:\n",
    "            for token in lista:\n",
    "                if token in contagem:\n",
    "                    contagem[token] += 1\n",
    "                else:\n",
    "                    contagem[token] = 1\n",
    "        tokens_por_classe[classe] = contagem\n",
    "\n",
    "    # detetar palavras exclusivas por classe\n",
    "    palavras_unicas = {}\n",
    "    for classe in classes:\n",
    "        # lista de palavras das outras classes\n",
    "        outras_palavras = []\n",
    "        for outra_classe in classes:\n",
    "            if outra_classe != classe:\n",
    "                for token in tokens_por_classe[outra_classe]:\n",
    "                    outras_palavras.append(token)\n",
    "\n",
    "        # dicionário palavras exclusivas com contagens\n",
    "        unicas_classe = {}\n",
    "        for palavra, contagem in tokens_por_classe[classe].items():\n",
    "            exclusiva = True\n",
    "            for p in outras_palavras:\n",
    "                if p == palavra:\n",
    "                    exclusiva = False\n",
    "                    break\n",
    "            if exclusiva:\n",
    "                unicas_classe[palavra] = contagem\n",
    "\n",
    "        palavras_unicas[classe] = unicas_classe\n",
    "\n",
    "    return palavras_unicas\n",
    "\n",
    "#palavras_unicas_por_classe(train_df,'tokens')\n"
   ]
  },
  {
   "cell_type": "markdown",
   "id": "6cefd312",
   "metadata": {},
   "source": [
    "ver a proporção de advérbios e adjetivos entre as classes"
   ]
  },
  {
   "cell_type": "code",
   "execution_count": null,
   "id": "84ae5ac3",
   "metadata": {},
   "outputs": [
    {
     "name": "stderr",
     "output_type": "stream",
     "text": [
      "[nltk_data] Downloading package mac_morpho to\n",
      "[nltk_data]     C:\\Users\\furdu\\AppData\\Roaming\\nltk_data...\n",
      "[nltk_data]   Package mac_morpho is already up-to-date!\n"
     ]
    },
    {
     "ename": "ValueError",
     "evalue": "concat() expects at least one object!",
     "output_type": "error",
     "traceback": [
      "\u001b[31m---------------------------------------------------------------------------\u001b[39m",
      "\u001b[31mValueError\u001b[39m                                Traceback (most recent call last)",
      "\u001b[36mCell\u001b[39m\u001b[36m \u001b[39m\u001b[32mIn[13]\u001b[39m\u001b[32m, line 5\u001b[39m\n\u001b[32m      2\u001b[39m \u001b[38;5;28;01mfrom\u001b[39;00m\u001b[38;5;250m \u001b[39m\u001b[34;01mnltk\u001b[39;00m\u001b[34;01m.\u001b[39;00m\u001b[34;01mcorpus\u001b[39;00m\u001b[38;5;250m \u001b[39m\u001b[38;5;28;01mimport\u001b[39;00m mac_morpho\n\u001b[32m      4\u001b[39m dic_palavras = {}  \u001b[38;5;66;03m# Dic para palavras de cada classe gramatical\u001b[39;00m\n\u001b[32m----> \u001b[39m\u001b[32m5\u001b[39m \u001b[38;5;28;01mfor\u001b[39;00m palavra, tag \u001b[38;5;129;01min\u001b[39;00m \u001b[43mmac_morpho\u001b[49m\u001b[43m.\u001b[49m\u001b[43mtagged_words\u001b[49m\u001b[43m(\u001b[49m\u001b[43m)\u001b[49m:  \u001b[38;5;66;03m# (palavra, tag)\u001b[39;00m\n\u001b[32m      6\u001b[39m     \u001b[38;5;28;01mif\u001b[39;00m tag \u001b[38;5;129;01mnot\u001b[39;00m \u001b[38;5;129;01min\u001b[39;00m dic_palavras: \n\u001b[32m      7\u001b[39m         dic_palavras[tag] = \u001b[38;5;28mset\u001b[39m()\n",
      "\u001b[36mFile \u001b[39m\u001b[32m~\\AppData\\Roaming\\Python\\Python313\\site-packages\\nltk\\corpus\\reader\\tagged.py:152\u001b[39m, in \u001b[36mTaggedCorpusReader.tagged_words\u001b[39m\u001b[34m(self, fileids, tagset)\u001b[39m\n\u001b[32m    150\u001b[39m \u001b[38;5;28;01melse\u001b[39;00m:\n\u001b[32m    151\u001b[39m     tag_mapping_function = \u001b[38;5;28;01mNone\u001b[39;00m\n\u001b[32m--> \u001b[39m\u001b[32m152\u001b[39m \u001b[38;5;28;01mreturn\u001b[39;00m \u001b[43mconcat\u001b[49m\u001b[43m(\u001b[49m\n\u001b[32m    153\u001b[39m \u001b[43m    \u001b[49m\u001b[43m[\u001b[49m\n\u001b[32m    154\u001b[39m \u001b[43m        \u001b[49m\u001b[43mTaggedCorpusView\u001b[49m\u001b[43m(\u001b[49m\n\u001b[32m    155\u001b[39m \u001b[43m            \u001b[49m\u001b[43mfileid\u001b[49m\u001b[43m,\u001b[49m\n\u001b[32m    156\u001b[39m \u001b[43m            \u001b[49m\u001b[43menc\u001b[49m\u001b[43m,\u001b[49m\n\u001b[32m    157\u001b[39m \u001b[43m            \u001b[49m\u001b[38;5;28;43;01mTrue\u001b[39;49;00m\u001b[43m,\u001b[49m\n\u001b[32m    158\u001b[39m \u001b[43m            \u001b[49m\u001b[38;5;28;43;01mFalse\u001b[39;49;00m\u001b[43m,\u001b[49m\n\u001b[32m    159\u001b[39m \u001b[43m            \u001b[49m\u001b[38;5;28;43;01mFalse\u001b[39;49;00m\u001b[43m,\u001b[49m\n\u001b[32m    160\u001b[39m \u001b[43m            \u001b[49m\u001b[38;5;28;43mself\u001b[39;49m\u001b[43m.\u001b[49m\u001b[43m_sep\u001b[49m\u001b[43m,\u001b[49m\n\u001b[32m    161\u001b[39m \u001b[43m            \u001b[49m\u001b[38;5;28;43mself\u001b[39;49m\u001b[43m.\u001b[49m\u001b[43m_word_tokenizer\u001b[49m\u001b[43m,\u001b[49m\n\u001b[32m    162\u001b[39m \u001b[43m            \u001b[49m\u001b[38;5;28;43mself\u001b[39;49m\u001b[43m.\u001b[49m\u001b[43m_sent_tokenizer\u001b[49m\u001b[43m,\u001b[49m\n\u001b[32m    163\u001b[39m \u001b[43m            \u001b[49m\u001b[38;5;28;43mself\u001b[39;49m\u001b[43m.\u001b[49m\u001b[43m_para_block_reader\u001b[49m\u001b[43m,\u001b[49m\n\u001b[32m    164\u001b[39m \u001b[43m            \u001b[49m\u001b[43mtag_mapping_function\u001b[49m\u001b[43m,\u001b[49m\n\u001b[32m    165\u001b[39m \u001b[43m        \u001b[49m\u001b[43m)\u001b[49m\n\u001b[32m    166\u001b[39m \u001b[43m        \u001b[49m\u001b[38;5;28;43;01mfor\u001b[39;49;00m\u001b[43m \u001b[49m\u001b[43m(\u001b[49m\u001b[43mfileid\u001b[49m\u001b[43m,\u001b[49m\u001b[43m \u001b[49m\u001b[43menc\u001b[49m\u001b[43m)\u001b[49m\u001b[43m \u001b[49m\u001b[38;5;129;43;01min\u001b[39;49;00m\u001b[43m \u001b[49m\u001b[38;5;28;43mself\u001b[39;49m\u001b[43m.\u001b[49m\u001b[43mabspaths\u001b[49m\u001b[43m(\u001b[49m\u001b[43mfileids\u001b[49m\u001b[43m,\u001b[49m\u001b[43m \u001b[49m\u001b[38;5;28;43;01mTrue\u001b[39;49;00m\u001b[43m)\u001b[49m\n\u001b[32m    167\u001b[39m \u001b[43m    \u001b[49m\u001b[43m]\u001b[49m\n\u001b[32m    168\u001b[39m \u001b[43m\u001b[49m\u001b[43m)\u001b[49m\n",
      "\u001b[36mFile \u001b[39m\u001b[32m~\\AppData\\Roaming\\Python\\Python313\\site-packages\\nltk\\corpus\\reader\\util.py:444\u001b[39m, in \u001b[36mconcat\u001b[39m\u001b[34m(docs)\u001b[39m\n\u001b[32m    442\u001b[39m     \u001b[38;5;28;01mreturn\u001b[39;00m docs[\u001b[32m0\u001b[39m]\n\u001b[32m    443\u001b[39m \u001b[38;5;28;01mif\u001b[39;00m \u001b[38;5;28mlen\u001b[39m(docs) == \u001b[32m0\u001b[39m:\n\u001b[32m--> \u001b[39m\u001b[32m444\u001b[39m     \u001b[38;5;28;01mraise\u001b[39;00m \u001b[38;5;167;01mValueError\u001b[39;00m(\u001b[33m\"\u001b[39m\u001b[33mconcat() expects at least one object!\u001b[39m\u001b[33m\"\u001b[39m)\n\u001b[32m    446\u001b[39m types = {d.\u001b[34m__class__\u001b[39m \u001b[38;5;28;01mfor\u001b[39;00m d \u001b[38;5;129;01min\u001b[39;00m docs}\n\u001b[32m    448\u001b[39m \u001b[38;5;66;03m# If they're all strings, use string concatenation.\u001b[39;00m\n",
      "\u001b[31mValueError\u001b[39m: concat() expects at least one object!"
     ]
    }
   ],
   "source": [
    "nltk.download('mac_morpho') \n",
    "from nltk.corpus import mac_morpho\n",
    "\n",
    "dic_palavras = {}  # Dic para palavras de cada classe gramatical\n",
    "for palavra, tag in mac_morpho.tagged_words():  # (palavra, tag)\n",
    "    if tag not in dic_palavras: \n",
    "        dic_palavras[tag] = set()\n",
    "    dic_palavras[tag].add(palavra.lower())  # associar palavra à respetiva tag\n",
    "\n",
    "print (dic_palavras)"
   ]
  },
  {
   "cell_type": "code",
   "execution_count": 14,
   "id": "91180394",
   "metadata": {},
   "outputs": [
    {
     "data": {
      "text/plain": [
       "{np.int64(0): {'total_adverbios': 0,\n",
       "  'media_adverbios_por_token': 0.0,\n",
       "  'total_adjetivos': 0,\n",
       "  'media_adjetivos_por_token': 0.0},\n",
       " np.int64(-1): {'total_adverbios': 0,\n",
       "  'media_adverbios_por_token': 0.0,\n",
       "  'total_adjetivos': 0,\n",
       "  'media_adjetivos_por_token': 0.0},\n",
       " np.int64(1): {'total_adverbios': 0,\n",
       "  'media_adverbios_por_token': 0.0,\n",
       "  'total_adjetivos': 0,\n",
       "  'media_adjetivos_por_token': 0.0}}"
      ]
     },
     "execution_count": 14,
     "metadata": {},
     "output_type": "execute_result"
    }
   ],
   "source": [
    "def proporcao_adverbios_adjetivos_por_classe(df, coluna_tokens):\n",
    "    classes = df['classe'].unique()  \n",
    "    proporcoes_por_classe = {}     \n",
    "\n",
    "    lista_adverbios = dic_palavras.get('ADV', set())  \n",
    "    lista_adjetivos = dic_palavras.get('ADJ', set())  \n",
    "\n",
    "    \n",
    "    for classe in classes: \n",
    "        tokens_por_classe = df[df['classe'] == classe][coluna_tokens].dropna()  \n",
    "            \n",
    "        total_adverbios_classe = 0   \n",
    "        total_adjetivos_classe = 0    \n",
    "        total_tokens_classe = 0\n",
    "        # contar advérbios e adjetivos\n",
    "        for lista_tokens in tokens_por_classe:\n",
    "            total_adverbios_classe += sum(1 for token in lista_tokens if token in lista_adverbios)\n",
    "            total_adjetivos_classe += sum(1 for token in lista_tokens if token in lista_adjetivos)\n",
    "            total_tokens_classe += len(lista_tokens)\n",
    "\n",
    "        proporcoes_por_classe[classe] = {\n",
    "            'total_adverbios': total_adverbios_classe,\n",
    "            'media_adverbios_por_token': total_adverbios_classe / total_tokens_classe,\n",
    "            'total_adjetivos': total_adjetivos_classe,\n",
    "            'media_adjetivos_por_token': total_adjetivos_classe / total_tokens_classe,\n",
    "        }\n",
    "    \n",
    "    return proporcoes_por_classe\n",
    "\n",
    "proporcao_adverbios_adjetivos_por_classe(train_df, 'tokens')"
   ]
  },
  {
   "cell_type": "markdown",
   "id": "8c6575f7",
   "metadata": {},
   "source": [
    "## Contruir regras para classificar o texto"
   ]
  },
  {
   "cell_type": "markdown",
   "id": "9ddc0b1a",
   "metadata": {},
   "source": [
    "Regras para a classe -1 (citação)"
   ]
  },
  {
   "cell_type": "code",
   "execution_count": 5,
   "id": "61aab071",
   "metadata": {},
   "outputs": [],
   "source": [
    "def citacao(text):\n",
    "    return '\"' in str(text) or '“' in str(text) or '”' in str(text) or '[' in str(text) "
   ]
  },
  {
   "cell_type": "markdown",
   "id": "41bb2494",
   "metadata": {},
   "source": [
    "Regras para a classe 0 (facto)"
   ]
  },
  {
   "cell_type": "markdown",
   "id": "e375ebbe",
   "metadata": {},
   "source": [
    "Regras para a classe 1 (viés)"
   ]
  },
  {
   "cell_type": "code",
   "execution_count": 6,
   "id": "6419d6ec",
   "metadata": {},
   "outputs": [],
   "source": [
    "def bias(text):\n",
    "    return '?' in str(text)"
   ]
  },
  {
   "cell_type": "code",
   "execution_count": 7,
   "id": "d8e8d28c",
   "metadata": {},
   "outputs": [],
   "source": [
    "def classificar(row):\n",
    "    if citacao(row['sentences']):\n",
    "        return -1  \n",
    "    if bias(row['sentences']):\n",
    "        return 1\n",
    "    return 0"
   ]
  },
  {
   "cell_type": "code",
   "execution_count": 8,
   "id": "361d4316",
   "metadata": {},
   "outputs": [],
   "source": [
    "def classificar_texto(row):\n",
    "    texto = row['sentences'].lower()\n",
    "\n",
    "    pontos = {\n",
    "        'citacao': 0,\n",
    "        'bias': 0,\n",
    "        'facto': 0\n",
    "    }\n",
    "    #citacao\n",
    "    if '\"' in texto or '“' in texto or '”' in texto or \"'\" in texto or \"’\" in texto:\n",
    "        pontos['citacao'] += 2\n",
    "    if any(verbo in texto for verbo in ['disse', 'afirmou', 'relatou', 'segundo', 'comentou']):\n",
    "        pontos['citacao'] += 1\n",
    "        \n",
    "\n",
    "    #bias\n",
    "    if any(adj in texto for adj in ['horrível', 'bom', 'terrível', 'excelente', 'injusto', 'desejável']):\n",
    "        pontos['bias'] += 2\n",
    "    if any(intens in texto for intens in ['muito', 'claramente', 'extremamente', 'realmente']):\n",
    "        pontos['bias'] += 1\n",
    "    if '?' in texto:\n",
    "        pontos['bias'] += 1\n",
    "\n",
    "    #factos\n",
    "    if re.search(r'\\b(milhões|milhares|ano|anos|percentagem|por cento|%|dados|número|quantidade)\\b', texto):\n",
    "        pontos['facto'] += 2\n",
    "    if any(verbo in texto for verbo in ['foi', 'são', 'estaram', 'está', 'ficou', 'ocorreu']):\n",
    "        pontos['facto'] += 1\n",
    "\n",
    "    # Escolher categoria com maior pontuação\n",
    "    classe_max = max(pontos, key=pontos.get)\n",
    "    \n",
    "    # Mapear para classes Numéricas\n",
    "    mapa_classes = {\n",
    "        'citacao': -1,\n",
    "        'facto': 0,\n",
    "        'bias': 1,\n",
    "    }\n",
    "    \n",
    "    return mapa_classes[classe_max]\n"
   ]
  },
  {
   "cell_type": "markdown",
   "id": "9203403a",
   "metadata": {},
   "source": [
    "ver verbo verbo numa frase - prob um bias"
   ]
  },
  {
   "cell_type": "markdown",
   "id": "12277e69",
   "metadata": {},
   "source": [
    "## Aplicar classificação no conjunto de teste"
   ]
  },
  {
   "cell_type": "code",
   "execution_count": 9,
   "id": "821d9f81",
   "metadata": {},
   "outputs": [],
   "source": [
    "test_df['Previsto'] = test_df.apply(classificar, axis=1)\n",
    "test_df['Previsto2'] = test_df.apply(classificar_texto, axis=1)\n"
   ]
  },
  {
   "cell_type": "markdown",
   "id": "476a32cb",
   "metadata": {},
   "source": [
    "## Avaliar as regras de classificação"
   ]
  },
  {
   "cell_type": "code",
   "execution_count": 10,
   "id": "5b8d1efa",
   "metadata": {},
   "outputs": [
    {
     "name": "stdout",
     "output_type": "stream",
     "text": [
      "                                              sentences  classe  Previsto  \\\n",
      "996   No primeiro turno, o candidato da esquerda chi...       0         0   \n",
      "468   Esta é a segunda vez em menos de um ano que o ...       0         0   \n",
      "6077  A margem de erro é dois pontos para mais ou pa...       0         0   \n",
      "2127  Passei um dia na cidade nesta semana -moro no ...      -1         0   \n",
      "2080  Na ocasião, o peemedebista discordou dos outro...       0         0   \n",
      "\n",
      "      Previsto2  \n",
      "996          -1  \n",
      "468           0  \n",
      "6077         -1  \n",
      "2127         -1  \n",
      "2080         -1  \n"
     ]
    }
   ],
   "source": [
    "print(test_df[['sentences', 'classe', 'Previsto', 'Previsto2']].head())"
   ]
  },
  {
   "cell_type": "code",
   "execution_count": 11,
   "id": "07a27a49",
   "metadata": {},
   "outputs": [
    {
     "name": "stdout",
     "output_type": "stream",
     "text": [
      "Certos: 969 de 6191\n",
      "Accuracy: 15.65%\n",
      "Classe -1:  65.21739130434783 %\n",
      "Classe 0:  92.9245283018868 %\n",
      "Classe 1:  0.8695652173913043 %\n"
     ]
    },
    {
     "data": {
      "image/png": "[encoded data removed]",
      "text/plain": [
       "<Figure size 640x480 with 2 Axes>"
      ]
     },
     "metadata": {},
     "output_type": "display_data"
    }
   ],
   "source": [
    "import pandas as pd\n",
    "from sklearn.metrics import confusion_matrix, ConfusionMatrixDisplay\n",
    "import matplotlib.pyplot as plt\n",
    "\n",
    "certos = (test_df['classe'] == test_df['Previsto']).sum()\n",
    "total = len(df)\n",
    "print(f'Certos: {certos} de {total}')\n",
    "print(f'Accuracy: {certos/total:.2%}')\n",
    "\n",
    "for c in classes:\n",
    "    linhas_classe = test_df[test_df['classe'] == c]     \n",
    "    total_classe = len(linhas_classe)\n",
    "    certos_classe = (linhas_classe['classe'] == linhas_classe['Previsto']).sum()\n",
    "    taxa_acerto = certos_classe / total_classe \n",
    "    print(f\"Classe {c}: \", taxa_acerto*100, \"%\")\n",
    "\n",
    "matriz = confusion_matrix(test_df['classe'], test_df['Previsto'], labels=classes)\n",
    "\n",
    "disp = ConfusionMatrixDisplay(confusion_matrix=matriz, display_labels=classes)\n",
    "disp.plot()\n",
    "plt.title(\"Matriz de confusão do teste\")\n",
    "plt.show()"
   ]
  },
  {
   "cell_type": "code",
   "execution_count": 12,
   "id": "1d3467c4",
   "metadata": {},
   "outputs": [
    {
     "name": "stdout",
     "output_type": "stream",
     "text": [
      "Certos: 485 de 6191\n",
      "Accuracy: 7.83%\n",
      "Classe -1:  93.11594202898551 %\n",
      "Classe 0:  26.41509433962264 %\n",
      "Classe 1:  3.4782608695652173 %\n"
     ]
    },
    {
     "data": {
      "image/png": "[encoded data removed]",
      "text/plain": [
       "<Figure size 640x480 with 2 Axes>"
      ]
     },
     "metadata": {},
     "output_type": "display_data"
    }
   ],
   "source": [
    "import pandas as pd\n",
    "from sklearn.metrics import confusion_matrix, ConfusionMatrixDisplay\n",
    "import matplotlib.pyplot as plt\n",
    "\n",
    "certos = (test_df['classe'] == test_df['Previsto2']).sum()\n",
    "total = len(df)\n",
    "print(f'Certos: {certos} de {total}')\n",
    "print(f'Accuracy: {certos/total:.2%}')\n",
    "\n",
    "for c in classes:\n",
    "    linhas_classe = test_df[test_df['classe'] == c]     \n",
    "    total_classe = len(linhas_classe)\n",
    "    certos_classe = (linhas_classe['classe'] == linhas_classe['Previsto2']).sum()\n",
    "    taxa_acerto = certos_classe / total_classe \n",
    "    print(f\"Classe {c}: \", taxa_acerto*100, \"%\")\n",
    "\n",
    "matriz = confusion_matrix(test_df['classe'], test_df['Previsto2'], labels=classes)\n",
    "\n",
    "disp = ConfusionMatrixDisplay(confusion_matrix=matriz, display_labels=classes)\n",
    "disp.plot()\n",
    "plt.title(\"Matriz de confusão do teste\")\n",
    "plt.show()"
   ]
  }
 ],
 "metadata": {
  "kernelspec": {
   "display_name": "Python 3",
   "language": "python",
   "name": "python3"
  },
  "language_info": {
   "codemirror_mode": {
    "name": "ipython",
    "version": 3
   },
   "file_extension": ".py",
   "mimetype": "text/x-python",
   "name": "python",
   "nbconvert_exporter": "python",
   "pygments_lexer": "ipython3",
   "version": "3.13.7"
  }
 },
 "nbformat": 4,
 "nbformat_minor": 5
}
