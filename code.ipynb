{
 "cells": [
  {
   "cell_type": "code",
   "execution_count": 11,
   "id": "161eb1a4",
   "metadata": {},
   "outputs": [
    {
     "name": "stderr",
     "output_type": "stream",
     "text": [
      "[nltk_data] Downloading package punkt to\n",
      "[nltk_data]     C:\\Users\\furdu\\AppData\\Roaming\\nltk_data...\n",
      "[nltk_data]   Package punkt is already up-to-date!\n"
     ]
    },
    {
     "data": {
      "text/plain": [
       "True"
      ]
     },
     "execution_count": 11,
     "metadata": {},
     "output_type": "execute_result"
    }
   ],
   "source": [
    "import pandas as pd\n",
    "import nltk\n",
    "import string\n",
    "import spacy\n",
    "\n",
    "nltk.download('punkt')"
   ]
  },
  {
   "cell_type": "code",
   "execution_count": 12,
   "id": "03af6e0f",
   "metadata": {},
   "outputs": [],
   "source": [
    "df = pd.read_csv('factnews_dataset.csv')"
   ]
  },
  {
   "cell_type": "code",
   "execution_count": 13,
   "id": "ba38f070",
   "metadata": {},
   "outputs": [],
   "source": [
    "def preprocess(text):\n",
    "    tokens = nltk.word_tokenize(str(text).lower())\n",
    "    tokens = [t for t in tokens if t not in string.punctuation]\n",
    "    return tokens"
   ]
  },
  {
   "cell_type": "code",
   "execution_count": null,
   "id": "b165c89d",
   "metadata": {},
   "outputs": [],
   "source": [
    "\n",
    "def citacao(text):\n",
    "    return '\"' in str(text) or '“' in str(text) or '”' in str(text)\n",
    "\n",
    "def bias(text):\n",
    "    return \n",
    "\n",
    "def classificar(row):\n",
    "    if citacao(row['sentences']):\n",
    "        return -1  \n",
    "    if bias(row['sentences']):\n",
    "        return 1\n",
    "    return 0  "
   ]
  },
  {
   "cell_type": "code",
   "execution_count": 15,
   "id": "f29c5140",
   "metadata": {},
   "outputs": [],
   "source": [
    "df['Previsto'] = df.apply(classificar, axis=1)"
   ]
  },
  {
   "cell_type": "code",
   "execution_count": 16,
   "id": "5b8d1efa",
   "metadata": {},
   "outputs": [
    {
     "name": "stdout",
     "output_type": "stream",
     "text": [
      "                                           sentences  classe  Previsto\n",
      "0            \"Não houve sobreviventes\", disse Okala.      -1        -1\n",
      "1  As vítimas do acidente foram 14 passageiros e ...       0         0\n",
      "2  O avião explodiu e se incendiou, acrescentou o...       0         0\n",
      "3  O porta-voz informou que o avião, um Soviet An...       0         0\n",
      "4  Segundo fontes aeroportuárias, os membros da t...       0         0\n"
     ]
    }
   ],
   "source": [
    "print(df[['sentences', 'classe', 'Previsto']].head())"
   ]
  },
  {
   "cell_type": "code",
   "execution_count": null,
   "id": "07a27a49",
   "metadata": {},
   "outputs": [
    {
     "name": "stdout",
     "output_type": "stream",
     "text": [
      "Certos: 4850 de 6191\n",
      "Accuracy: 78.34%\n"
     ]
    }
   ],
   "source": [
    "#calcular para cada classe\n",
    "\n",
    "certos = (df['classe'] == df['Previsto']).sum()\n",
    "total = len(df)\n",
    "print(f'Certos: {certos} de {total}')\n",
    "print(f'Accuracy: {certos/total:.2%}')"
   ]
  }
 ],
 "metadata": {
  "kernelspec": {
   "display_name": "Python 3",
   "language": "python",
   "name": "python3"
  },
  "language_info": {
   "codemirror_mode": {
    "name": "ipython",
    "version": 3
   },
   "file_extension": ".py",
   "mimetype": "text/x-python",
   "name": "python",
   "nbconvert_exporter": "python",
   "pygments_lexer": "ipython3",
   "version": "3.13.7"
  }
 },
 "nbformat": 4,
 "nbformat_minor": 5
}
